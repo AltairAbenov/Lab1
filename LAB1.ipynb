{
 "cells": [
  {
   "cell_type": "markdown",
   "id": "d3154228-2d7d-4a0e-b5d5-9a2255948868",
   "metadata": {},
   "source": [
    "Example 1"
   ]
  },
  {
   "cell_type": "code",
   "execution_count": 2,
   "id": "285b7f43-025c-41c5-a61c-faae9777f68c",
   "metadata": {},
   "outputs": [
    {
     "name": "stdout",
     "output_type": "stream",
     "text": [
      "Hello world!\n"
     ]
    }
   ],
   "source": [
    "print(\"Hello world!\")"
   ]
  },
  {
   "cell_type": "markdown",
   "id": "29bf137c-ee6c-43ee-a60f-185c127b7a3d",
   "metadata": {},
   "source": [
    "Example 2"
   ]
  },
  {
   "cell_type": "code",
   "execution_count": 5,
   "id": "95714168-0719-4b2c-89e7-6397f8a34a80",
   "metadata": {},
   "outputs": [
    {
     "name": "stdout",
     "output_type": "stream",
     "text": [
      "3.12.7 | packaged by Anaconda, Inc. | (main, Oct  4 2024, 13:17:27) [MSC v.1929 64 bit (AMD64)]\n"
     ]
    }
   ],
   "source": [
    "import sys\n",
    "print(sys.version)"
   ]
  },
  {
   "cell_type": "markdown",
   "id": "9cd88810-4d65-421e-a332-f95e24ac2eea",
   "metadata": {},
   "source": [
    "Example 3"
   ]
  },
  {
   "cell_type": "code",
   "execution_count": 8,
   "id": "1dbe97f5-5f16-4b80-9c59-5f898a7ba248",
   "metadata": {},
   "outputs": [
    {
     "name": "stdout",
     "output_type": "stream",
     "text": [
      "Five is greater than two\n"
     ]
    }
   ],
   "source": [
    "if 5 > 2:\n",
    "    print(\"Five is greater than two\")"
   ]
  },
  {
   "cell_type": "markdown",
   "id": "b1cdd5ae-540f-4393-88b6-fbfe841a3ba0",
   "metadata": {},
   "source": [
    "Example 4 with error"
   ]
  },
  {
   "cell_type": "code",
   "execution_count": 12,
   "id": "7676881f-466f-4525-8655-01239186b511",
   "metadata": {},
   "outputs": [
    {
     "ename": "IndentationError",
     "evalue": "expected an indented block after 'if' statement on line 1 (4267780824.py, line 2)",
     "output_type": "error",
     "traceback": [
      "\u001b[1;36m  Cell \u001b[1;32mIn[12], line 2\u001b[1;36m\u001b[0m\n\u001b[1;33m    print(\"Five is greater than two\")\u001b[0m\n\u001b[1;37m    ^\u001b[0m\n\u001b[1;31mIndentationError\u001b[0m\u001b[1;31m:\u001b[0m expected an indented block after 'if' statement on line 1\n"
     ]
    }
   ],
   "source": [
    "if 5 > 2:\n",
    "print(\"Five is greater than two\")"
   ]
  },
  {
   "cell_type": "markdown",
   "id": "a239e208-acf3-472c-a73e-69625b907adc",
   "metadata": {},
   "source": [
    "Example 5"
   ]
  },
  {
   "cell_type": "code",
   "execution_count": 15,
   "id": "569c11fb-d3df-4d4e-9167-a9924bf654e7",
   "metadata": {},
   "outputs": [
    {
     "name": "stdout",
     "output_type": "stream",
     "text": [
      "Five is greater than two!\n",
      "Five is greater than two!\n"
     ]
    }
   ],
   "source": [
    "if 5 > 2:\n",
    " print(\"Five is greater than two!\") \n",
    "if 5 > 2:\n",
    "        print(\"Five is greater than two!\") "
   ]
  },
  {
   "cell_type": "markdown",
   "id": "e2c2e16c-dba6-418b-9cc2-9915e4b43e5d",
   "metadata": {},
   "source": [
    "Example 6 with error"
   ]
  },
  {
   "cell_type": "code",
   "execution_count": 19,
   "id": "d0412625-bdd8-4f45-b4c5-e0a9874b6375",
   "metadata": {},
   "outputs": [
    {
     "ename": "IndentationError",
     "evalue": "unexpected indent (3430240237.py, line 3)",
     "output_type": "error",
     "traceback": [
      "\u001b[1;36m  Cell \u001b[1;32mIn[19], line 3\u001b[1;36m\u001b[0m\n\u001b[1;33m    print(\"Five is greater than two!\")\u001b[0m\n\u001b[1;37m    ^\u001b[0m\n\u001b[1;31mIndentationError\u001b[0m\u001b[1;31m:\u001b[0m unexpected indent\n"
     ]
    }
   ],
   "source": [
    "if 5 > 2:\n",
    " print(\"Five is greater than two!\")\n",
    "        print(\"Five is greater than two!\")"
   ]
  },
  {
   "cell_type": "markdown",
   "id": "e6fb5be6-27d8-4be6-a204-2c4e6e4efefb",
   "metadata": {},
   "source": [
    "Example 7"
   ]
  },
  {
   "cell_type": "code",
   "execution_count": 24,
   "id": "2ef2f172-c715-4deb-af44-fa0a1bef05f9",
   "metadata": {},
   "outputs": [],
   "source": [
    "x = 5\n",
    "y = \"Hello world!\""
   ]
  },
  {
   "cell_type": "markdown",
   "id": "ca34d70e-39c7-41a2-b76c-2f811da5259e",
   "metadata": {},
   "source": [
    "Example 8"
   ]
  },
  {
   "cell_type": "code",
   "execution_count": 31,
   "id": "c595cb28-1065-464c-ae77-777feb225f0f",
   "metadata": {},
   "outputs": [
    {
     "name": "stdout",
     "output_type": "stream",
     "text": [
      "Hello world\n"
     ]
    }
   ],
   "source": [
    "#This is example\n",
    "print(\"Hello world\")"
   ]
  },
  {
   "cell_type": "markdown",
   "id": "83a939d5-9f2e-473c-a2f9-ccf1c4051082",
   "metadata": {},
   "source": [
    "Example 9"
   ]
  },
  {
   "cell_type": "code",
   "execution_count": 34,
   "id": "52bb749a-ba77-406d-b20c-b426848f85e4",
   "metadata": {},
   "outputs": [
    {
     "name": "stdout",
     "output_type": "stream",
     "text": [
      "Hello world!\n"
     ]
    }
   ],
   "source": [
    "print(\"Hello world!\") #This is comment"
   ]
  },
  {
   "cell_type": "markdown",
   "id": "0ac77cf2-e27f-4524-be4b-52f5a1395578",
   "metadata": {},
   "source": [
    "Example 10"
   ]
  },
  {
   "cell_type": "code",
   "execution_count": 37,
   "id": "15d4a703-69cc-48f1-b149-6fab2b9d87d0",
   "metadata": {},
   "outputs": [
    {
     "name": "stdout",
     "output_type": "stream",
     "text": [
      "Cheers, Mate!\n"
     ]
    }
   ],
   "source": [
    "#print(\"Hello, World!\")\n",
    "print(\"Cheers, Mate!\")"
   ]
  },
  {
   "cell_type": "markdown",
   "id": "cb4202d3-09fb-4c84-8cdc-79b05a2002a0",
   "metadata": {},
   "source": [
    "Example 11"
   ]
  },
  {
   "cell_type": "code",
   "execution_count": 40,
   "id": "5dcc60b0-40d4-4990-bc08-a62e6df62e0a",
   "metadata": {},
   "outputs": [
    {
     "name": "stdout",
     "output_type": "stream",
     "text": [
      "Hello, World!\n"
     ]
    }
   ],
   "source": [
    "#This is a comment\n",
    "#written in\n",
    "#more than just one line\n",
    "print(\"Hello, World!\")"
   ]
  },
  {
   "cell_type": "markdown",
   "id": "0e0f1ad0-dc1c-4534-a39e-34b0151c8a7d",
   "metadata": {},
   "source": [
    "Example 12"
   ]
  },
  {
   "cell_type": "code",
   "execution_count": 43,
   "id": "40b9f72d-3b85-40cd-8cdb-ae4c5f67ea91",
   "metadata": {},
   "outputs": [
    {
     "name": "stdout",
     "output_type": "stream",
     "text": [
      "Hello, World!\n"
     ]
    }
   ],
   "source": [
    "\"\"\"\n",
    "This is a comment\n",
    "written in\n",
    "more than just one line\n",
    "\"\"\"\n",
    "print(\"Hello, World!\")"
   ]
  },
  {
   "cell_type": "markdown",
   "id": "228ec7a7-a942-499c-b7be-cc5843ff971f",
   "metadata": {},
   "source": [
    "Example 13"
   ]
  },
  {
   "cell_type": "code",
   "execution_count": 46,
   "id": "f99c72b4-05f8-4696-abc1-a60d0dab1486",
   "metadata": {},
   "outputs": [
    {
     "name": "stdout",
     "output_type": "stream",
     "text": [
      "5\n",
      "John\n"
     ]
    }
   ],
   "source": [
    "x = 5\n",
    "y = \"John\"\n",
    "print(x)\n",
    "print(y)"
   ]
  },
  {
   "cell_type": "markdown",
   "id": "81389e78-ca9f-4458-b99f-c0dd01f5909c",
   "metadata": {},
   "source": [
    "Example 14"
   ]
  },
  {
   "cell_type": "code",
   "execution_count": 49,
   "id": "82596801-7f15-4b22-9a24-467925e4f16e",
   "metadata": {},
   "outputs": [
    {
     "name": "stdout",
     "output_type": "stream",
     "text": [
      "Sally\n"
     ]
    }
   ],
   "source": [
    "x = 4       # x is of type int\n",
    "x = \"Sally\" # x is now of type str\n",
    "print(x)"
   ]
  },
  {
   "cell_type": "markdown",
   "id": "43f44737-a544-40e3-abe3-22f0d08de01c",
   "metadata": {},
   "source": [
    "Example 15"
   ]
  },
  {
   "cell_type": "code",
   "execution_count": 52,
   "id": "7cd8cbac-70fa-4f25-8c6c-fb74ae544503",
   "metadata": {},
   "outputs": [],
   "source": [
    "x = str(3)    # x will be '3'\n",
    "y = int(3)    # y will be 3\n",
    "z = float(3)  # z will be 3.0"
   ]
  },
  {
   "cell_type": "markdown",
   "id": "8fb609d0-0c47-4c9e-acc9-1c83c72f1138",
   "metadata": {},
   "source": [
    "Example 16"
   ]
  },
  {
   "cell_type": "code",
   "execution_count": 55,
   "id": "a207593d-6c0e-43be-84f2-f64eab427000",
   "metadata": {},
   "outputs": [
    {
     "name": "stdout",
     "output_type": "stream",
     "text": [
      "<class 'int'>\n",
      "<class 'str'>\n"
     ]
    }
   ],
   "source": [
    "x = 5\n",
    "y = \"John\"\n",
    "print(type(x))\n",
    "print(type(y))"
   ]
  },
  {
   "cell_type": "markdown",
   "id": "f84abd0d-4e24-46a9-9885-a68209a0a9ae",
   "metadata": {},
   "source": [
    "Example 17"
   ]
  },
  {
   "cell_type": "code",
   "execution_count": 58,
   "id": "f1666e4c-5b20-470e-87fc-fba0c0a081c2",
   "metadata": {},
   "outputs": [],
   "source": [
    "x = \"John\"\n",
    "# is the same as\n",
    "x = 'John'"
   ]
  },
  {
   "cell_type": "markdown",
   "id": "a7d79b34-37f4-4083-8033-3f33d419115c",
   "metadata": {},
   "source": [
    "Example 18"
   ]
  },
  {
   "cell_type": "code",
   "execution_count": 61,
   "id": "5dd8dcac-1da8-4bfb-9c12-fb4bc482b004",
   "metadata": {},
   "outputs": [],
   "source": [
    "a = 4\n",
    "A = \"Sally\"\n",
    "#A will not overwrite a"
   ]
  },
  {
   "cell_type": "markdown",
   "id": "5649d478-60e1-4f2a-8eeb-fdd3ae4b2cc2",
   "metadata": {},
   "source": [
    "Example 19"
   ]
  },
  {
   "cell_type": "code",
   "execution_count": 64,
   "id": "4029a492-7dfe-4034-aa28-11599526f2e9",
   "metadata": {},
   "outputs": [],
   "source": [
    "myvar = \"John\"\n",
    "my_var = \"John\"\n",
    "_my_var = \"John\"\n",
    "myVar = \"John\"\n",
    "MYVAR = \"John\"\n",
    "myvar2 = \"John\""
   ]
  },
  {
   "cell_type": "markdown",
   "id": "bfcdf91e-6c6d-4871-a743-f87cf4e84b22",
   "metadata": {},
   "source": [
    "Example 20 with error"
   ]
  },
  {
   "cell_type": "code",
   "execution_count": 67,
   "id": "69c0df72-fce5-4bb0-9823-912863e284ae",
   "metadata": {},
   "outputs": [
    {
     "ename": "SyntaxError",
     "evalue": "invalid decimal literal (2185399839.py, line 1)",
     "output_type": "error",
     "traceback": [
      "\u001b[1;36m  Cell \u001b[1;32mIn[67], line 1\u001b[1;36m\u001b[0m\n\u001b[1;33m    2myvar = \"John\"\u001b[0m\n\u001b[1;37m    ^\u001b[0m\n\u001b[1;31mSyntaxError\u001b[0m\u001b[1;31m:\u001b[0m invalid decimal literal\n"
     ]
    }
   ],
   "source": [
    "2myvar = \"John\"\n",
    "my-var = \"John\"\n",
    "my var = \"John\""
   ]
  },
  {
   "cell_type": "markdown",
   "id": "9beda8d8-f2e6-4d35-b0ac-0cafffc471c6",
   "metadata": {},
   "source": [
    "Example 21"
   ]
  },
  {
   "cell_type": "code",
   "execution_count": 70,
   "id": "cc796f01-2919-418d-8177-c7ab160869fd",
   "metadata": {},
   "outputs": [
    {
     "name": "stdout",
     "output_type": "stream",
     "text": [
      "Orange\n",
      "Banana\n",
      "Cherry\n"
     ]
    }
   ],
   "source": [
    "x, y, z = \"Orange\", \"Banana\", \"Cherry\"\n",
    "print(x)\n",
    "print(y)\n",
    "print(z)"
   ]
  },
  {
   "cell_type": "markdown",
   "id": "23fc60e6-788e-4131-8389-e5764c49738b",
   "metadata": {},
   "source": [
    "Example 22"
   ]
  },
  {
   "cell_type": "code",
   "execution_count": 73,
   "id": "89481a0e-8acc-4b9d-a69d-6723b4b9ffdf",
   "metadata": {},
   "outputs": [
    {
     "name": "stdout",
     "output_type": "stream",
     "text": [
      "Orange\n",
      "Orange\n",
      "Orange\n"
     ]
    }
   ],
   "source": [
    "x = y = z = \"Orange\"\n",
    "print(x)\n",
    "print(y)\n",
    "print(z)"
   ]
  },
  {
   "cell_type": "markdown",
   "id": "ef13c6a2-faa4-4777-8378-e3c923ef8d40",
   "metadata": {},
   "source": [
    "Example 23"
   ]
  },
  {
   "cell_type": "code",
   "execution_count": 76,
   "id": "be60c4a6-f25e-415a-ae83-37a5f69428e3",
   "metadata": {},
   "outputs": [
    {
     "name": "stdout",
     "output_type": "stream",
     "text": [
      "apple\n",
      "banana\n",
      "cherry\n"
     ]
    }
   ],
   "source": [
    "fruits = [\"apple\", \"banana\", \"cherry\"]\n",
    "x, y, z = fruits\n",
    "print(x)\n",
    "print(y)\n",
    "print(z)"
   ]
  },
  {
   "cell_type": "markdown",
   "id": "dfb32028-b361-4793-bdd2-1f3021ca3493",
   "metadata": {},
   "source": [
    "Example 24"
   ]
  },
  {
   "cell_type": "code",
   "execution_count": 79,
   "id": "cfd0d3c4-8124-4901-ac02-e1798d468971",
   "metadata": {},
   "outputs": [
    {
     "name": "stdout",
     "output_type": "stream",
     "text": [
      "Python is awesome\n"
     ]
    }
   ],
   "source": [
    "x = \"Python is awesome\"\n",
    "print(x)"
   ]
  },
  {
   "cell_type": "markdown",
   "id": "e0c24709-edd1-48f3-a3f3-309c8703c256",
   "metadata": {},
   "source": [
    "Example 25"
   ]
  },
  {
   "cell_type": "code",
   "execution_count": 82,
   "id": "c0159d12-a907-42fd-bd48-ee99f133c98a",
   "metadata": {},
   "outputs": [
    {
     "name": "stdout",
     "output_type": "stream",
     "text": [
      "Python is awesome\n"
     ]
    }
   ],
   "source": [
    "x = \"Python\"\n",
    "y = \"is\"\n",
    "z = \"awesome\"\n",
    "print(x, y, z)"
   ]
  },
  {
   "cell_type": "markdown",
   "id": "72db6234-8673-4c67-9bdf-a99f80c0e730",
   "metadata": {},
   "source": [
    "Example 26"
   ]
  },
  {
   "cell_type": "code",
   "execution_count": 85,
   "id": "ee633120-f394-4bf2-a1c2-1dd828eb0fc8",
   "metadata": {},
   "outputs": [
    {
     "name": "stdout",
     "output_type": "stream",
     "text": [
      "Python is awesome\n"
     ]
    }
   ],
   "source": [
    "x = \"Python \"\n",
    "y = \"is \"\n",
    "z = \"awesome\"\n",
    "print(x + y + z)"
   ]
  },
  {
   "cell_type": "markdown",
   "id": "9432f93a-2736-4768-82c0-de5513b5b963",
   "metadata": {},
   "source": [
    "Example 27"
   ]
  },
  {
   "cell_type": "code",
   "execution_count": 88,
   "id": "65029858-b6d2-409f-8c24-278fceca3ce8",
   "metadata": {},
   "outputs": [
    {
     "name": "stdout",
     "output_type": "stream",
     "text": [
      "15\n"
     ]
    }
   ],
   "source": [
    "x = 5\n",
    "y = 10\n",
    "print(x + y)"
   ]
  },
  {
   "cell_type": "markdown",
   "id": "7aed4e28-09f3-4e54-8451-e162b9ed6296",
   "metadata": {},
   "source": [
    "Example 28 with error"
   ]
  },
  {
   "cell_type": "code",
   "execution_count": 91,
   "id": "c33b2d73-6c67-429c-8fe6-076e8ebb31ce",
   "metadata": {},
   "outputs": [
    {
     "ename": "TypeError",
     "evalue": "unsupported operand type(s) for +: 'int' and 'str'",
     "output_type": "error",
     "traceback": [
      "\u001b[1;31m---------------------------------------------------------------------------\u001b[0m",
      "\u001b[1;31mTypeError\u001b[0m                                 Traceback (most recent call last)",
      "Cell \u001b[1;32mIn[91], line 3\u001b[0m\n\u001b[0;32m      1\u001b[0m x \u001b[38;5;241m=\u001b[39m \u001b[38;5;241m5\u001b[39m\n\u001b[0;32m      2\u001b[0m y \u001b[38;5;241m=\u001b[39m \u001b[38;5;124m\"\u001b[39m\u001b[38;5;124mJohn\u001b[39m\u001b[38;5;124m\"\u001b[39m\n\u001b[1;32m----> 3\u001b[0m \u001b[38;5;28mprint\u001b[39m(x \u001b[38;5;241m+\u001b[39m y)\n",
      "\u001b[1;31mTypeError\u001b[0m: unsupported operand type(s) for +: 'int' and 'str'"
     ]
    }
   ],
   "source": [
    "x = 5\n",
    "y = \"John\"\n",
    "print(x + y)"
   ]
  },
  {
   "cell_type": "markdown",
   "id": "acc851ab-07ad-416c-ae41-44d443e09809",
   "metadata": {},
   "source": [
    "Example 29"
   ]
  },
  {
   "cell_type": "code",
   "execution_count": 94,
   "id": "7575be07-e0df-4d2f-b42f-4e63fd52a5cb",
   "metadata": {},
   "outputs": [
    {
     "name": "stdout",
     "output_type": "stream",
     "text": [
      "5 John\n"
     ]
    }
   ],
   "source": [
    "x = 5\n",
    "y = \"John\"\n",
    "print(x, y)"
   ]
  },
  {
   "cell_type": "markdown",
   "id": "92a86f3f-2218-4741-aedd-8a6b03ca1517",
   "metadata": {},
   "source": [
    "Example 30"
   ]
  },
  {
   "cell_type": "code",
   "execution_count": 97,
   "id": "12149f6f-30e4-4241-83be-07b54b4e49fa",
   "metadata": {},
   "outputs": [
    {
     "name": "stdout",
     "output_type": "stream",
     "text": [
      "Python is awesome\n"
     ]
    }
   ],
   "source": [
    "x = \"awesome\"\n",
    "\n",
    "def myfunc():\n",
    "  print(\"Python is \" + x)\n",
    "\n",
    "myfunc()"
   ]
  },
  {
   "cell_type": "markdown",
   "id": "801a8d1e-36fb-4582-ad99-705f6f4a44cb",
   "metadata": {},
   "source": [
    "Example 31"
   ]
  },
  {
   "cell_type": "code",
   "execution_count": 100,
   "id": "cd8d0cb0-6aa6-4b46-8e3e-2b625342019c",
   "metadata": {},
   "outputs": [
    {
     "name": "stdout",
     "output_type": "stream",
     "text": [
      "Python is fantastic\n",
      "Python is awesome\n"
     ]
    }
   ],
   "source": [
    "x = \"awesome\"\n",
    "\n",
    "def myfunc():\n",
    "  x = \"fantastic\"\n",
    "  print(\"Python is \" + x)\n",
    "\n",
    "myfunc()\n",
    "\n",
    "print(\"Python is \" + x)"
   ]
  },
  {
   "cell_type": "markdown",
   "id": "0dd8b6cd-61db-478d-ac9f-a30b1754bac5",
   "metadata": {},
   "source": [
    "Example 32"
   ]
  },
  {
   "cell_type": "code",
   "execution_count": 103,
   "id": "580e65ab-d3a5-4f97-899f-2211cdf21a82",
   "metadata": {},
   "outputs": [
    {
     "name": "stdout",
     "output_type": "stream",
     "text": [
      "Python is fantastic\n"
     ]
    }
   ],
   "source": [
    "def myfunc():\n",
    "  global x\n",
    "  x = \"fantastic\"\n",
    "\n",
    "myfunc()\n",
    "\n",
    "print(\"Python is \" + x)"
   ]
  },
  {
   "cell_type": "markdown",
   "id": "7f73caa7-5140-4d9c-8949-18fe9429985a",
   "metadata": {},
   "source": [
    "Example 33"
   ]
  },
  {
   "cell_type": "code",
   "execution_count": 106,
   "id": "744e2067-5dba-4937-a133-40b92091297b",
   "metadata": {},
   "outputs": [
    {
     "name": "stdout",
     "output_type": "stream",
     "text": [
      "Python is fantastic\n"
     ]
    }
   ],
   "source": [
    "x = \"awesome\"\n",
    "\n",
    "def myfunc():\n",
    "  global x\n",
    "  x = \"fantastic\"\n",
    "\n",
    "myfunc()\n",
    "\n",
    "print(\"Python is \" + x)"
   ]
  },
  {
   "cell_type": "markdown",
   "id": "da284605-a30d-4bd9-8477-189f0f82da02",
   "metadata": {},
   "source": [
    "Example 34"
   ]
  },
  {
   "cell_type": "code",
   "execution_count": 109,
   "id": "e621fcd0-9a3a-4e36-82f5-ef0a08b83452",
   "metadata": {},
   "outputs": [
    {
     "name": "stdout",
     "output_type": "stream",
     "text": [
      "<class 'int'>\n"
     ]
    }
   ],
   "source": [
    "x = 5\n",
    "print(type(x))"
   ]
  },
  {
   "cell_type": "markdown",
   "id": "9bcbf197-96f8-4f3b-a549-18a95c14a7e8",
   "metadata": {},
   "source": [
    "Example 35"
   ]
  },
  {
   "cell_type": "code",
   "execution_count": 112,
   "id": "78227cb5-f0ed-4f2d-b812-d00879611ed2",
   "metadata": {},
   "outputs": [],
   "source": [
    "x = 1    # int\n",
    "y = 2.8  # float\n",
    "z = 1j   # complex"
   ]
  },
  {
   "cell_type": "markdown",
   "id": "1b625c2f-2bbc-40de-9019-6f3c84d44b5b",
   "metadata": {},
   "source": [
    "Example 36"
   ]
  },
  {
   "cell_type": "code",
   "execution_count": 115,
   "id": "5ade24d6-4911-4bf5-8ea5-cec0e4d85672",
   "metadata": {},
   "outputs": [
    {
     "name": "stdout",
     "output_type": "stream",
     "text": [
      "<class 'int'>\n",
      "<class 'float'>\n",
      "<class 'complex'>\n"
     ]
    }
   ],
   "source": [
    "print(type(x))\n",
    "print(type(y))\n",
    "print(type(z))"
   ]
  },
  {
   "cell_type": "markdown",
   "id": "ceec857b-9f25-4271-8999-dfecf31454d2",
   "metadata": {},
   "source": [
    "Example 37"
   ]
  },
  {
   "cell_type": "code",
   "execution_count": 118,
   "id": "39cfbdc6-11e0-4273-9936-a6e29ff8b3fe",
   "metadata": {},
   "outputs": [
    {
     "name": "stdout",
     "output_type": "stream",
     "text": [
      "<class 'int'>\n",
      "<class 'int'>\n",
      "<class 'int'>\n"
     ]
    }
   ],
   "source": [
    "x = 1\n",
    "y = 35656222554887711\n",
    "z = -3255522\n",
    "\n",
    "print(type(x))\n",
    "print(type(y))\n",
    "print(type(z))"
   ]
  },
  {
   "cell_type": "markdown",
   "id": "6ae13f31-3394-4657-a76e-68e83b9f55c0",
   "metadata": {},
   "source": [
    "Example 38"
   ]
  },
  {
   "cell_type": "code",
   "execution_count": 121,
   "id": "4414904c-51ce-4c5f-af1a-0abf1c0bc797",
   "metadata": {},
   "outputs": [
    {
     "name": "stdout",
     "output_type": "stream",
     "text": [
      "<class 'float'>\n",
      "<class 'float'>\n",
      "<class 'float'>\n"
     ]
    }
   ],
   "source": [
    "x = 1.10\n",
    "y = 1.0\n",
    "z = -35.59\n",
    "\n",
    "print(type(x))\n",
    "print(type(y))\n",
    "print(type(z))"
   ]
  },
  {
   "cell_type": "markdown",
   "id": "80ad6648-fdf9-46c0-99bb-3c588d7f601f",
   "metadata": {},
   "source": [
    "Example 39"
   ]
  },
  {
   "cell_type": "code",
   "execution_count": 124,
   "id": "dad9d0c5-576c-487c-b459-089835e02e31",
   "metadata": {},
   "outputs": [
    {
     "name": "stdout",
     "output_type": "stream",
     "text": [
      "<class 'float'>\n",
      "<class 'float'>\n",
      "<class 'float'>\n"
     ]
    }
   ],
   "source": [
    "x = 35e3\n",
    "y = 12E4\n",
    "z = -87.7e100\n",
    "\n",
    "print(type(x))\n",
    "print(type(y))\n",
    "print(type(z))"
   ]
  },
  {
   "cell_type": "markdown",
   "id": "cb7afb9f-d29f-463c-a107-21f202ae1cc5",
   "metadata": {},
   "source": [
    "Example 40"
   ]
  },
  {
   "cell_type": "code",
   "execution_count": 127,
   "id": "dbffd70e-d8de-4e40-9d27-be1aa7e8e9ae",
   "metadata": {},
   "outputs": [
    {
     "name": "stdout",
     "output_type": "stream",
     "text": [
      "<class 'complex'>\n",
      "<class 'complex'>\n",
      "<class 'complex'>\n"
     ]
    }
   ],
   "source": [
    "x = 3+5j\n",
    "y = 5j\n",
    "z = -5j\n",
    "\n",
    "print(type(x))\n",
    "print(type(y))\n",
    "print(type(z))"
   ]
  },
  {
   "cell_type": "markdown",
   "id": "02d951db-689b-49dd-8900-da9a0c284940",
   "metadata": {},
   "source": [
    "Example 41"
   ]
  },
  {
   "cell_type": "code",
   "execution_count": 130,
   "id": "2074daf2-5309-4568-9fe0-4ba3837b202c",
   "metadata": {},
   "outputs": [
    {
     "name": "stdout",
     "output_type": "stream",
     "text": [
      "1.0\n",
      "2\n",
      "(1+0j)\n",
      "<class 'float'>\n",
      "<class 'int'>\n",
      "<class 'complex'>\n"
     ]
    }
   ],
   "source": [
    "x = 1    # int\n",
    "y = 2.8  # float\n",
    "z = 1j   # complex\n",
    "\n",
    "#convert from int to float:\n",
    "a = float(x)\n",
    "\n",
    "#convert from float to int:\n",
    "b = int(y)\n",
    "\n",
    "#convert from int to complex:\n",
    "c = complex(x)\n",
    "\n",
    "print(a)\n",
    "print(b)\n",
    "print(c)\n",
    "\n",
    "print(type(a))\n",
    "print(type(b))\n",
    "print(type(c))"
   ]
  },
  {
   "cell_type": "markdown",
   "id": "af33910d-9eab-480a-8d1b-c899a22057c9",
   "metadata": {},
   "source": [
    "Example 42"
   ]
  },
  {
   "cell_type": "code",
   "execution_count": 133,
   "id": "e4b83049-3c7e-431b-af4e-6d1e1782ec1c",
   "metadata": {},
   "outputs": [
    {
     "name": "stdout",
     "output_type": "stream",
     "text": [
      "7\n"
     ]
    }
   ],
   "source": [
    "import random\n",
    "\n",
    "print(random.randrange(1, 10))"
   ]
  },
  {
   "cell_type": "markdown",
   "id": "2c3bc707-e0fe-4228-8fc1-89045849f8f3",
   "metadata": {},
   "source": [
    "Example 43"
   ]
  },
  {
   "cell_type": "code",
   "execution_count": 136,
   "id": "6db35ff6-c371-4bbd-aaf4-27d0dd1bddc3",
   "metadata": {},
   "outputs": [],
   "source": [
    "x = int(1)   # x will be 1\n",
    "y = int(2.8) # y will be 2\n",
    "z = int(\"3\") # z will be 3"
   ]
  },
  {
   "cell_type": "markdown",
   "id": "5cbe6841-a880-439f-826c-106139bf5059",
   "metadata": {},
   "source": [
    "Example 44"
   ]
  },
  {
   "cell_type": "code",
   "execution_count": 139,
   "id": "652c1894-59e3-4f9e-aa6e-b865fa9b3af0",
   "metadata": {},
   "outputs": [],
   "source": [
    "x = float(1)     # x will be 1.0\n",
    "y = float(2.8)   # y will be 2.8\n",
    "z = float(\"3\")   # z will be 3.0\n",
    "w = float(\"4.2\") # w will be 4.2"
   ]
  },
  {
   "cell_type": "markdown",
   "id": "e2b184ca-07dd-4360-a1f4-de296abc933f",
   "metadata": {},
   "source": [
    "Example 45"
   ]
  },
  {
   "cell_type": "code",
   "execution_count": 142,
   "id": "a7dc4150-4147-4f05-abec-4040acbba66b",
   "metadata": {},
   "outputs": [],
   "source": [
    "x = str(\"s1\") # x will be 's1'\n",
    "y = str(2)    # y will be '2'\n",
    "z = str(3.0)  # z will be '3.0'"
   ]
  },
  {
   "cell_type": "markdown",
   "id": "10d83346-0cae-4a78-9a7a-1f049726900b",
   "metadata": {},
   "source": [
    "Example 46"
   ]
  },
  {
   "cell_type": "code",
   "execution_count": 145,
   "id": "b1cb24b8-948b-488b-9e7c-56292d40d869",
   "metadata": {},
   "outputs": [
    {
     "name": "stdout",
     "output_type": "stream",
     "text": [
      "Hello\n",
      "Hello\n"
     ]
    }
   ],
   "source": [
    "print(\"Hello\")\n",
    "print('Hello')"
   ]
  },
  {
   "cell_type": "markdown",
   "id": "92d131cb-ca73-4acf-8256-58636830ce76",
   "metadata": {},
   "source": [
    "Example 47"
   ]
  },
  {
   "cell_type": "code",
   "execution_count": 148,
   "id": "8be8fc0e-afab-4815-82ca-e547e9d9d26d",
   "metadata": {},
   "outputs": [
    {
     "name": "stdout",
     "output_type": "stream",
     "text": [
      "It's alright\n",
      "He is called 'Johnny'\n",
      "He is called \"Johnny\"\n"
     ]
    }
   ],
   "source": [
    "print(\"It's alright\")\n",
    "print(\"He is called 'Johnny'\")\n",
    "print('He is called \"Johnny\"')"
   ]
  },
  {
   "cell_type": "markdown",
   "id": "6342d1f4-fe07-4581-8a18-c0413f3d6333",
   "metadata": {},
   "source": [
    "Example 48"
   ]
  },
  {
   "cell_type": "code",
   "execution_count": 151,
   "id": "0178ab1b-c250-4754-9083-9b5e6bc94d64",
   "metadata": {},
   "outputs": [
    {
     "name": "stdout",
     "output_type": "stream",
     "text": [
      "Hello\n"
     ]
    }
   ],
   "source": [
    "a = \"Hello\"\n",
    "print(a)"
   ]
  },
  {
   "cell_type": "markdown",
   "id": "827cd08c-3e21-46af-b36c-9bd2d69dc011",
   "metadata": {},
   "source": [
    "Example 49"
   ]
  },
  {
   "cell_type": "code",
   "execution_count": 154,
   "id": "bc177660-16a1-4dcc-bb43-afdba2420ef5",
   "metadata": {},
   "outputs": [
    {
     "name": "stdout",
     "output_type": "stream",
     "text": [
      "Lorem ipsum dolor sit amet,\n",
      "consectetur adipiscing elit,\n",
      "sed do eiusmod tempor incididunt\n",
      "ut labore et dolore magna aliqua.\n"
     ]
    }
   ],
   "source": [
    "a = \"\"\"Lorem ipsum dolor sit amet,\n",
    "consectetur adipiscing elit,\n",
    "sed do eiusmod tempor incididunt\n",
    "ut labore et dolore magna aliqua.\"\"\"\n",
    "print(a)"
   ]
  },
  {
   "cell_type": "markdown",
   "id": "a34baace-e751-4c2b-8019-049a225c7b34",
   "metadata": {},
   "source": [
    "Example 50"
   ]
  },
  {
   "cell_type": "code",
   "execution_count": 157,
   "id": "f1cada67-857f-44f7-a42a-d74532235027",
   "metadata": {},
   "outputs": [
    {
     "name": "stdout",
     "output_type": "stream",
     "text": [
      "Lorem ipsum dolor sit amet,\n",
      "consectetur adipiscing elit,\n",
      "sed do eiusmod tempor incididunt\n",
      "ut labore et dolore magna aliqua.\n"
     ]
    }
   ],
   "source": [
    "a = '''Lorem ipsum dolor sit amet,\n",
    "consectetur adipiscing elit,\n",
    "sed do eiusmod tempor incididunt\n",
    "ut labore et dolore magna aliqua.'''\n",
    "print(a)"
   ]
  },
  {
   "cell_type": "markdown",
   "id": "b75eb1a5-f435-4656-b74b-08a8adfa8809",
   "metadata": {},
   "source": [
    "Example 51"
   ]
  },
  {
   "cell_type": "code",
   "execution_count": 160,
   "id": "a769ac36-680f-4d09-b757-787958618e69",
   "metadata": {},
   "outputs": [
    {
     "name": "stdout",
     "output_type": "stream",
     "text": [
      "e\n"
     ]
    }
   ],
   "source": [
    "a = \"Hello, World!\"\n",
    "print(a[1])"
   ]
  },
  {
   "cell_type": "markdown",
   "id": "c21c41f4-da92-4014-9b3b-b0fc1526b316",
   "metadata": {},
   "source": [
    "Example 52"
   ]
  },
  {
   "cell_type": "code",
   "execution_count": 163,
   "id": "93d72a76-e8b0-4be0-aae9-bcbab9e9a334",
   "metadata": {},
   "outputs": [
    {
     "name": "stdout",
     "output_type": "stream",
     "text": [
      "b\n",
      "a\n",
      "n\n",
      "a\n",
      "n\n",
      "a\n"
     ]
    }
   ],
   "source": [
    "for x in \"banana\":\n",
    "  print(x)"
   ]
  },
  {
   "cell_type": "markdown",
   "id": "daff9351-bcb1-4112-a028-d199aab1e47d",
   "metadata": {},
   "source": [
    "Example 53"
   ]
  },
  {
   "cell_type": "code",
   "execution_count": 166,
   "id": "bfd2f5bb-8680-4ae5-9076-594944607e44",
   "metadata": {},
   "outputs": [
    {
     "name": "stdout",
     "output_type": "stream",
     "text": [
      "13\n"
     ]
    }
   ],
   "source": [
    "a = \"Hello, World!\"\n",
    "print(len(a))"
   ]
  },
  {
   "cell_type": "markdown",
   "id": "3b8642e7-82ba-4584-addc-eed802675dcf",
   "metadata": {},
   "source": [
    "Example 54"
   ]
  },
  {
   "cell_type": "code",
   "execution_count": 169,
   "id": "cfd0c148-2456-4803-b0cc-70c1293d89d8",
   "metadata": {},
   "outputs": [
    {
     "name": "stdout",
     "output_type": "stream",
     "text": [
      "True\n"
     ]
    }
   ],
   "source": [
    "txt = \"The best things in life are free!\"\n",
    "print(\"free\" in txt)"
   ]
  },
  {
   "cell_type": "markdown",
   "id": "dadd863e-58de-461d-bb10-ed3c1c3677dd",
   "metadata": {},
   "source": [
    "Example 55"
   ]
  },
  {
   "cell_type": "code",
   "execution_count": 172,
   "id": "ef1305fb-98e4-4db1-abba-ee91f8315177",
   "metadata": {},
   "outputs": [
    {
     "name": "stdout",
     "output_type": "stream",
     "text": [
      "Yes, 'free' is present.\n"
     ]
    }
   ],
   "source": [
    "txt = \"The best things in life are free!\"\n",
    "if \"free\" in txt:\n",
    "  print(\"Yes, 'free' is present.\")"
   ]
  },
  {
   "cell_type": "markdown",
   "id": "2f60fa09-9a19-43b8-b4b2-9ee6c3a65afd",
   "metadata": {},
   "source": [
    "Example 56"
   ]
  },
  {
   "cell_type": "code",
   "execution_count": 176,
   "id": "2e819ef0-53ff-4d99-9bc2-9b835d71872f",
   "metadata": {},
   "outputs": [
    {
     "name": "stdout",
     "output_type": "stream",
     "text": [
      "True\n"
     ]
    }
   ],
   "source": [
    "txt = \"The best things in life are free!\"\n",
    "print(\"expensive\" not in txt)"
   ]
  },
  {
   "cell_type": "markdown",
   "id": "649261dd-b39b-40b4-b974-d3204191974b",
   "metadata": {},
   "source": [
    "Example 57"
   ]
  },
  {
   "cell_type": "code",
   "execution_count": 179,
   "id": "5da5f518-2ef6-4ac8-beea-1e0c0c7d0f9a",
   "metadata": {},
   "outputs": [
    {
     "name": "stdout",
     "output_type": "stream",
     "text": [
      "No, 'expensive' is NOT present.\n"
     ]
    }
   ],
   "source": [
    "txt = \"The best things in life are free!\"\n",
    "if \"expensive\" not in txt:\n",
    "  print(\"No, 'expensive' is NOT present.\")"
   ]
  },
  {
   "cell_type": "markdown",
   "id": "0a4df6fd-7f80-4831-bd10-8da7a737c41b",
   "metadata": {},
   "source": [
    "Example 58"
   ]
  },
  {
   "cell_type": "code",
   "execution_count": 182,
   "id": "c8054010-7cd1-4bfc-98e7-49e0823100b9",
   "metadata": {},
   "outputs": [
    {
     "name": "stdout",
     "output_type": "stream",
     "text": [
      "llo\n"
     ]
    }
   ],
   "source": [
    "b = \"Hello, World!\"\n",
    "print(b[2:5])"
   ]
  },
  {
   "cell_type": "markdown",
   "id": "8b90cffd-66c7-40c3-b895-2a06492387b8",
   "metadata": {},
   "source": [
    "Example 59"
   ]
  },
  {
   "cell_type": "code",
   "execution_count": 185,
   "id": "33ce19e7-e260-40d5-a263-7e6b0da22a71",
   "metadata": {},
   "outputs": [
    {
     "name": "stdout",
     "output_type": "stream",
     "text": [
      "Hello\n"
     ]
    }
   ],
   "source": [
    "b = \"Hello, World!\"\n",
    "print(b[:5])"
   ]
  },
  {
   "cell_type": "markdown",
   "id": "52df3046-0c12-4503-90b5-f1941e8cd678",
   "metadata": {},
   "source": [
    "Example 60"
   ]
  },
  {
   "cell_type": "code",
   "execution_count": 188,
   "id": "28544d9d-478a-4b55-a8d7-7c4a262a2a08",
   "metadata": {},
   "outputs": [
    {
     "name": "stdout",
     "output_type": "stream",
     "text": [
      "llo, World!\n"
     ]
    }
   ],
   "source": [
    "b = \"Hello, World!\"\n",
    "print(b[2:])"
   ]
  },
  {
   "cell_type": "markdown",
   "id": "1d2a0c3a-84d9-44dc-ac12-2f88424d6f69",
   "metadata": {},
   "source": [
    "Example 61"
   ]
  },
  {
   "cell_type": "code",
   "execution_count": 192,
   "id": "1adb7aaf-542b-44cc-96d5-fc18cbe33b34",
   "metadata": {},
   "outputs": [
    {
     "name": "stdout",
     "output_type": "stream",
     "text": [
      "orl\n"
     ]
    }
   ],
   "source": [
    "b = \"Hello, World!\"\n",
    "print(b[-5:-2])"
   ]
  },
  {
   "cell_type": "markdown",
   "id": "008bb416-9c3d-42e2-847d-f70e438682b2",
   "metadata": {},
   "source": [
    "Example 62"
   ]
  },
  {
   "cell_type": "code",
   "execution_count": 195,
   "id": "0077614b-8170-42e7-9ec3-7a05d0f941a2",
   "metadata": {},
   "outputs": [
    {
     "name": "stdout",
     "output_type": "stream",
     "text": [
      "HELLO, WORLD!\n"
     ]
    }
   ],
   "source": [
    "a = \"Hello, World!\"\n",
    "print(a.upper())"
   ]
  },
  {
   "cell_type": "markdown",
   "id": "8bddefc5-c26a-494b-aef6-a45a287f7967",
   "metadata": {},
   "source": [
    "Example 63"
   ]
  },
  {
   "cell_type": "code",
   "execution_count": 198,
   "id": "0bc259ba-5efb-403e-8f21-f40128783f89",
   "metadata": {},
   "outputs": [
    {
     "name": "stdout",
     "output_type": "stream",
     "text": [
      "hello, world!\n"
     ]
    }
   ],
   "source": [
    "a = \"Hello, World!\"\n",
    "print(a.lower())"
   ]
  },
  {
   "cell_type": "markdown",
   "id": "f87146d7-0148-46cb-b38d-e2dbf2bf3f69",
   "metadata": {},
   "source": [
    "Example 64"
   ]
  },
  {
   "cell_type": "code",
   "execution_count": 201,
   "id": "8851f3ab-5c4a-4c57-a799-0275a637689f",
   "metadata": {},
   "outputs": [
    {
     "name": "stdout",
     "output_type": "stream",
     "text": [
      "Hello, World!\n"
     ]
    }
   ],
   "source": [
    "a = \" Hello, World! \"\n",
    "print(a.strip()) # returns \"Hello, World!\""
   ]
  },
  {
   "cell_type": "markdown",
   "id": "635542ac-2944-406c-b6a6-13f5c447cae2",
   "metadata": {},
   "source": [
    "Example 65"
   ]
  },
  {
   "cell_type": "code",
   "execution_count": 204,
   "id": "b5509206-1ae5-4586-bb5b-3b4b030c9ba2",
   "metadata": {},
   "outputs": [
    {
     "name": "stdout",
     "output_type": "stream",
     "text": [
      "Jello, World!\n"
     ]
    }
   ],
   "source": [
    "a = \"Hello, World!\"\n",
    "print(a.replace(\"H\", \"J\"))"
   ]
  },
  {
   "cell_type": "markdown",
   "id": "f2b89aa3-a8df-4f54-8def-ce26e436d8cc",
   "metadata": {},
   "source": [
    "Example 67"
   ]
  },
  {
   "cell_type": "code",
   "execution_count": 207,
   "id": "7522abde-a264-4074-a5e7-437006dda3cc",
   "metadata": {},
   "outputs": [
    {
     "name": "stdout",
     "output_type": "stream",
     "text": [
      "['Hello', ' World!']\n"
     ]
    }
   ],
   "source": [
    "a = \"Hello, World!\"\n",
    "print(a.split(\",\")) # returns ['Hello', ' World!']"
   ]
  },
  {
   "cell_type": "markdown",
   "id": "54bc91cd-416f-44f8-ab83-856f92e6702d",
   "metadata": {},
   "source": [
    "Example 68"
   ]
  },
  {
   "cell_type": "code",
   "execution_count": 210,
   "id": "3a71b655-9bb8-41e3-91da-cc73dcafda61",
   "metadata": {},
   "outputs": [
    {
     "name": "stdout",
     "output_type": "stream",
     "text": [
      "HelloWorld\n"
     ]
    }
   ],
   "source": [
    "a = \"Hello\"\n",
    "b = \"World\"\n",
    "c = a + b\n",
    "print(c)"
   ]
  },
  {
   "cell_type": "markdown",
   "id": "786ff48b-f55c-4ecb-92ca-00b7afd80f90",
   "metadata": {},
   "source": [
    "Example 69"
   ]
  },
  {
   "cell_type": "code",
   "execution_count": 213,
   "id": "41d9112e-8e81-4160-b4c4-a911b8fdb113",
   "metadata": {},
   "outputs": [
    {
     "name": "stdout",
     "output_type": "stream",
     "text": [
      "Hello World\n"
     ]
    }
   ],
   "source": [
    "a = \"Hello\"\n",
    "b = \"World\"\n",
    "c = a + \" \" + b\n",
    "print(c)"
   ]
  },
  {
   "cell_type": "markdown",
   "id": "c5cb2f82-57c1-4e2a-99ad-7953f057ade0",
   "metadata": {},
   "source": [
    "Example 70 with error"
   ]
  },
  {
   "cell_type": "code",
   "execution_count": 217,
   "id": "ea689a64-25e7-4fd9-8864-1e90027d6fbc",
   "metadata": {},
   "outputs": [
    {
     "ename": "TypeError",
     "evalue": "can only concatenate str (not \"int\") to str",
     "output_type": "error",
     "traceback": [
      "\u001b[1;31m---------------------------------------------------------------------------\u001b[0m",
      "\u001b[1;31mTypeError\u001b[0m                                 Traceback (most recent call last)",
      "Cell \u001b[1;32mIn[217], line 2\u001b[0m\n\u001b[0;32m      1\u001b[0m age \u001b[38;5;241m=\u001b[39m \u001b[38;5;241m36\u001b[39m\n\u001b[1;32m----> 2\u001b[0m txt \u001b[38;5;241m=\u001b[39m \u001b[38;5;124m\"\u001b[39m\u001b[38;5;124mMy name is John, I am \u001b[39m\u001b[38;5;124m\"\u001b[39m \u001b[38;5;241m+\u001b[39m age\n\u001b[0;32m      3\u001b[0m \u001b[38;5;28mprint\u001b[39m(txt)\n",
      "\u001b[1;31mTypeError\u001b[0m: can only concatenate str (not \"int\") to str"
     ]
    }
   ],
   "source": [
    "age = 36\n",
    "txt = \"My name is John, I am \" + age\n",
    "print(txt)"
   ]
  },
  {
   "cell_type": "markdown",
   "id": "43137341-a3ae-45ec-b97f-2af67358403a",
   "metadata": {},
   "source": [
    "Example 71"
   ]
  },
  {
   "cell_type": "code",
   "execution_count": 220,
   "id": "e8010310-1a6b-4521-8250-06f2c995d788",
   "metadata": {},
   "outputs": [
    {
     "name": "stdout",
     "output_type": "stream",
     "text": [
      "My name is John, I am 36\n"
     ]
    }
   ],
   "source": [
    "age = 36\n",
    "txt = f\"My name is John, I am {age}\"\n",
    "print(txt)"
   ]
  },
  {
   "cell_type": "markdown",
   "id": "ad31d5e2-7d1b-4141-ad5d-c12312e8705e",
   "metadata": {},
   "source": [
    "Example 72"
   ]
  },
  {
   "cell_type": "code",
   "execution_count": 223,
   "id": "39973dfc-6266-4160-b6a1-101a4bac8872",
   "metadata": {},
   "outputs": [
    {
     "name": "stdout",
     "output_type": "stream",
     "text": [
      "The price is 59 dollars\n"
     ]
    }
   ],
   "source": [
    "price = 59\n",
    "txt = f\"The price is {price} dollars\"\n",
    "print(txt)"
   ]
  },
  {
   "cell_type": "markdown",
   "id": "a2ccd18e-225f-4ec5-869f-c54dd51ecdd2",
   "metadata": {},
   "source": [
    "Example 73"
   ]
  },
  {
   "cell_type": "code",
   "execution_count": 226,
   "id": "f526d3a2-faa9-47c1-b36d-ebde87ed8a7e",
   "metadata": {},
   "outputs": [
    {
     "name": "stdout",
     "output_type": "stream",
     "text": [
      "The price is 59.00 dollars\n"
     ]
    }
   ],
   "source": [
    "price = 59\n",
    "txt = f\"The price is {price:.2f} dollars\"\n",
    "print(txt)"
   ]
  },
  {
   "cell_type": "markdown",
   "id": "333bea6e-d8a2-4fc4-95ab-31ca1608a13a",
   "metadata": {},
   "source": [
    "Example 74"
   ]
  },
  {
   "cell_type": "code",
   "execution_count": 229,
   "id": "9a37d858-fc00-451a-989d-f94c576784fe",
   "metadata": {},
   "outputs": [
    {
     "name": "stdout",
     "output_type": "stream",
     "text": [
      "The price is 1180 dollars\n"
     ]
    }
   ],
   "source": [
    "txt = f\"The price is {20 * 59} dollars\"\n",
    "print(txt)"
   ]
  },
  {
   "cell_type": "markdown",
   "id": "2197097b-b3bd-4236-90f5-5ba21025669e",
   "metadata": {},
   "source": [
    "Example 75 with error"
   ]
  },
  {
   "cell_type": "code",
   "execution_count": 232,
   "id": "22fcef09-9101-4ab6-a387-c98d8871b25b",
   "metadata": {},
   "outputs": [
    {
     "ename": "SyntaxError",
     "evalue": "invalid syntax (7934146.py, line 1)",
     "output_type": "error",
     "traceback": [
      "\u001b[1;36m  Cell \u001b[1;32mIn[232], line 1\u001b[1;36m\u001b[0m\n\u001b[1;33m    txt = \"We are the so-called \"Vikings\" from the north.\"\u001b[0m\n\u001b[1;37m                                 ^\u001b[0m\n\u001b[1;31mSyntaxError\u001b[0m\u001b[1;31m:\u001b[0m invalid syntax\n"
     ]
    }
   ],
   "source": [
    "txt = \"We are the so-called \"Vikings\" from the north.\""
   ]
  },
  {
   "cell_type": "markdown",
   "id": "885a56ac-41a5-4f2d-8c32-4237e3db37ca",
   "metadata": {},
   "source": [
    "Example 76"
   ]
  },
  {
   "cell_type": "code",
   "execution_count": 236,
   "id": "a01bda6e-327c-4450-8e26-92816b753cdf",
   "metadata": {},
   "outputs": [],
   "source": [
    "txt = \"We are the so-called \\\"Vikings\\\" from the north.\""
   ]
  }
 ],
 "metadata": {
  "kernelspec": {
   "display_name": "Python [conda env:base] *",
   "language": "python",
   "name": "conda-base-py"
  },
  "language_info": {
   "codemirror_mode": {
    "name": "ipython",
    "version": 3
   },
   "file_extension": ".py",
   "mimetype": "text/x-python",
   "name": "python",
   "nbconvert_exporter": "python",
   "pygments_lexer": "ipython3",
   "version": "3.12.7"
  }
 },
 "nbformat": 4,
 "nbformat_minor": 5
}
